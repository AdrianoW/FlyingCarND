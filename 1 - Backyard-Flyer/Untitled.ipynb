{
 "cells": [
  {
   "cell_type": "code",
   "execution_count": 1,
   "metadata": {},
   "outputs": [],
   "source": [
    "import argparse\n",
    "import time\n",
    "from enum import Enum\n",
    "\n",
    "import numpy as np\n",
    "\n",
    "from udacidrone import Drone\n",
    "from udacidrone.connection import MavlinkConnection, WebSocketConnection  # noqa: F401\n",
    "from udacidrone.messaging import MsgID\n"
   ]
  },
  {
   "cell_type": "code",
   "execution_count": 4,
   "metadata": {},
   "outputs": [],
   "source": [
    "class States(Enum):\n",
    "    MANUAL = 0\n",
    "    ARMING = 1\n",
    "    TAKEOFF = 2\n",
    "    WAYPOINT = 3\n",
    "    LANDING = 4\n",
    "    DISARMING = 5"
   ]
  },
  {
   "cell_type": "code",
   "execution_count": 5,
   "metadata": {},
   "outputs": [],
   "source": [
    "class BackyardFlyer(Drone):\n",
    "\n",
    "    def __init__(self, connection):\n",
    "        super().__init__(connection)\n",
    "        self.target_position = np.array([0.0, 0.0, 0.0])\n",
    "        self.all_waypoints = []\n",
    "        self.in_mission = True\n",
    "        self.check_state = {}\n",
    "\n",
    "        # initial state\n",
    "        self.flight_state = States.MANUAL\n",
    "\n",
    "        # TODO: Register all your callbacks here\n",
    "        self.register_callback(MsgID.LOCAL_POSITION, self.local_position_callback)\n",
    "        self.register_callback(MsgID.LOCAL_VELOCITY, self.velocity_callback)\n",
    "        self.register_callback(MsgID.STATE, self.state_callback)\n",
    "\n",
    "    def local_position_callback(self):\n",
    "        \"\"\"\n",
    "        TODO: Implement this method\n",
    "\n",
    "        This triggers when `MsgID.LOCAL_POSITION` is received and self.local_position contains new data\n",
    "        \"\"\"\n",
    "        pass\n",
    "\n",
    "    def velocity_callback(self):\n",
    "        \"\"\"\n",
    "        TODO: Implement this method\n",
    "\n",
    "        This triggers when `MsgID.LOCAL_VELOCITY` is received and self.local_velocity contains new data\n",
    "        \"\"\"\n",
    "        pass\n",
    "\n",
    "    def state_callback(self):\n",
    "        \"\"\"\n",
    "        TODO: Implement this method\n",
    "\n",
    "        This triggers when `MsgID.STATE` is received and self.armed and self.guided contain new data\n",
    "        \"\"\"\n",
    "        pass\n",
    "\n",
    "    def calculate_box(self):\n",
    "        \"\"\"TODO: Fill out this method\n",
    "        \n",
    "        1. Return waypoints to fly a box\n",
    "        \"\"\"\n",
    "        pass\n",
    "\n",
    "    def arming_transition(self):\n",
    "        \"\"\"TODO: Fill out this method\n",
    "        \n",
    "        1. Take control of the drone\n",
    "        2. Pass an arming command\n",
    "        3. Set the home location to current position\n",
    "        4. Transition to the ARMING state\n",
    "        \"\"\"\n",
    "        print(\"arming transition\")\n",
    "\n",
    "    def takeoff_transition(self):\n",
    "        \"\"\"TODO: Fill out this method\n",
    "        \n",
    "        1. Set target_position altitude to 3.0m\n",
    "        2. Command a takeoff to 3.0m\n",
    "        3. Transition to the TAKEOFF state\n",
    "        \"\"\"\n",
    "        print(\"takeoff transition\")\n",
    "\n",
    "    def waypoint_transition(self):\n",
    "        \"\"\"TODO: Fill out this method\n",
    "    \n",
    "        1. Command the next waypoint position\n",
    "        2. Transition to WAYPOINT state\n",
    "        \"\"\"\n",
    "        print(\"waypoint transition\")\n",
    "\n",
    "    def landing_transition(self):\n",
    "        \"\"\"TODO: Fill out this method\n",
    "        \n",
    "        1. Command the drone to land\n",
    "        2. Transition to the LANDING state\n",
    "        \"\"\"\n",
    "        print(\"landing transition\")\n",
    "\n",
    "    def disarming_transition(self):\n",
    "        \"\"\"TODO: Fill out this method\n",
    "        \n",
    "        1. Command the drone to disarm\n",
    "        2. Transition to the DISARMING state\n",
    "        \"\"\"\n",
    "        print(\"disarm transition\")\n",
    "\n",
    "    def manual_transition(self):\n",
    "        \"\"\"This method is provided\n",
    "        \n",
    "        1. Release control of the drone\n",
    "        2. Stop the connection (and telemetry log)\n",
    "        3. End the mission\n",
    "        4. Transition to the MANUAL state\n",
    "        \"\"\"\n",
    "        print(\"manual transition\")\n",
    "\n",
    "        self.release_control()\n",
    "        self.stop()\n",
    "        self.in_mission = False\n",
    "        self.flight_state = States.MANUAL\n",
    "\n",
    "    def start(self):\n",
    "        \"\"\"This method is provided\n",
    "        \n",
    "        1. Open a log file\n",
    "        2. Start the drone connection\n",
    "        3. Close the log file\n",
    "        \"\"\"\n",
    "        print(\"Creating log file\")\n",
    "        self.start_log(\"Logs\", \"NavLog.txt\")\n",
    "        print(\"starting connection\")\n",
    "        self.connection.start()\n",
    "        print(\"Closing log file\")\n",
    "        self.stop_log()"
   ]
  },
  {
   "cell_type": "code",
   "execution_count": 7,
   "metadata": {},
   "outputs": [
    {
     "name": "stdout",
     "output_type": "stream",
     "text": [
      "Logs/TLog.txt\n"
     ]
    }
   ],
   "source": [
    "conn = MavlinkConnection('tcp:{0}:{1}'.format('127.0.0.1', '5760'), threaded=False, PX4=False)\n",
    "#conn = WebSocketConnection('ws://{0}:{1}'.format(args.host, args.port))\n",
    "drone = BackyardFlyer(conn)\n",
    "time.sleep(2)\n",
    "#drone.start()"
   ]
  },
  {
   "cell_type": "code",
   "execution_count": 12,
   "metadata": {},
   "outputs": [],
   "source": [
    "drone.arm()"
   ]
  },
  {
   "cell_type": "code",
   "execution_count": 9,
   "metadata": {},
   "outputs": [],
   "source": [
    "drone.takeoff(3)"
   ]
  },
  {
   "cell_type": "code",
   "execution_count": 15,
   "metadata": {},
   "outputs": [
    {
     "data": {
      "text/plain": [
       "{}"
      ]
     },
     "execution_count": 15,
     "metadata": {},
     "output_type": "execute_result"
    }
   ],
   "source": [
    "drone."
   ]
  },
  {
   "cell_type": "code",
   "execution_count": null,
   "metadata": {},
   "outputs": [],
   "source": []
  }
 ],
 "metadata": {
  "kernelspec": {
   "display_name": "Python 3",
   "language": "python",
   "name": "python3"
  },
  "language_info": {
   "codemirror_mode": {
    "name": "ipython",
    "version": 3
   },
   "file_extension": ".py",
   "mimetype": "text/x-python",
   "name": "python",
   "nbconvert_exporter": "python",
   "pygments_lexer": "ipython3",
   "version": "3.6.3"
  }
 },
 "nbformat": 4,
 "nbformat_minor": 2
}
