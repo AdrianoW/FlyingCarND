{
 "cells": [
  {
   "cell_type": "markdown",
   "metadata": {},
   "source": [
    "## Medial Axis\n"
   ]
  },
  {
   "cell_type": "code",
   "execution_count": 53,
   "metadata": {
    "collapsed": true
   },
   "outputs": [],
   "source": [
    "import numpy as np\n",
    "import matplotlib.pyplot as plt\n",
    "from planning_utils import create_grid, a_star\n",
    "from skimage.morphology import medial_axis\n",
    "from skimage.util import invert\n",
    "from udacidrone.frame_utils import global_to_local, local_to_global\n",
    "# from planning import a_star\n",
    "%matplotlib inline "
   ]
  },
  {
   "cell_type": "code",
   "execution_count": 2,
   "metadata": {
    "collapsed": true
   },
   "outputs": [],
   "source": [
    "plt.rcParams['figure.figsize'] = 12, 12"
   ]
  },
  {
   "cell_type": "code",
   "execution_count": 3,
   "metadata": {
    "collapsed": false
   },
   "outputs": [
    {
     "name": "stdout",
     "output_type": "stream",
     "text": [
      "[[-310.2389   -439.2315     85.5         5.          5.         85.5     ]\n",
      " [-300.2389   -439.2315     85.5         5.          5.         85.5     ]\n",
      " [-290.2389   -439.2315     85.5         5.          5.         85.5     ]\n",
      " ...\n",
      " [ 257.8061    425.1645      1.75852     1.292725    1.292725    1.944791]\n",
      " [ 293.9967    368.3391      3.557666    1.129456    1.129456    3.667319]\n",
      " [ 281.5162    354.4156      4.999351    1.053772    1.053772    4.950246]]\n"
     ]
    }
   ],
   "source": [
    "# This is the same obstacle data from the previous lesson.\n",
    "filename = 'colliders.csv'\n",
    "data = np.loadtxt(filename, delimiter=',', dtype='Float64', skiprows=2)\n",
    "print(data)"
   ]
  },
  {
   "cell_type": "code",
   "execution_count": 4,
   "metadata": {
    "collapsed": false
   },
   "outputs": [
    {
     "name": "stdout",
     "output_type": "stream",
     "text": [
      "-122.39745\n"
     ]
    }
   ],
   "source": [
    "with open('colliders.csv', 'r') as f:\n",
    "    temp = f.readline()\n",
    "    temp = temp.replace('lat0 ', '').replace('lon0', '')\n",
    "    lat, lon = temp.split(', ')\n",
    "    lat, lon = float(lat), float(lon)\n",
    "\n",
    "    print(lon)\n",
    "# TODO: set home position to (lon0, lat0, 0)\n",
    "\n"
   ]
  },
  {
   "cell_type": "code",
   "execution_count": null,
   "metadata": {
    "collapsed": true
   },
   "outputs": [],
   "source": [
    "print(local_to)"
   ]
  },
  {
   "cell_type": "code",
   "execution_count": 71,
   "metadata": {
    "collapsed": true
   },
   "outputs": [],
   "source": [
    "global_home = lon, lat, 0\n",
    "\n",
    "start_geo = (-122.395639, 37.793256, 0)\n",
    "end_geo = ( -122.395118, 37.794176, 0)\n",
    "\n",
    "start_local = global_to_local( start_geo, global_home)\n",
    "end_local = global_to_local(end_geo, global_home)\n",
    "\n",
    "# start_ne = (-north, -east)#(25,  100)\n",
    "# goal_ne = (start_ne[0]+20, start_ne[1]+30)\n",
    "start_local = (600, 545)\n",
    "end_local = (145, 200)\n",
    "\n",
    "start_ne = int(start_local[0]), int(start_local[1])\n",
    "goal_ne = int(end_local[0]), int(end_local[1])"
   ]
  },
  {
   "cell_type": "code",
   "execution_count": 72,
   "metadata": {
    "collapsed": true
   },
   "outputs": [],
   "source": [
    "# Static drone altitude (meters)\n",
    "drone_altitude = 1\n",
    "safety_distance = 2"
   ]
  },
  {
   "cell_type": "code",
   "execution_count": 73,
   "metadata": {
    "collapsed": true
   },
   "outputs": [],
   "source": [
    "grid, north, east = create_grid(data, drone_altitude, safety_distance)\n",
    "skeleton = medial_axis(invert(grid))\n"
   ]
  },
  {
   "cell_type": "markdown",
   "metadata": {},
   "source": [
    "Plot the edges on top of the grid along with start and goal locations."
   ]
  },
  {
   "cell_type": "code",
   "execution_count": 74,
   "metadata": {
    "collapsed": false
   },
   "outputs": [
    {
     "data": {
      "image/png": "[encoded data removed]",
      "text/plain": [
       "<matplotlib.figure.Figure at 0x11e32c7b8>"
      ]
     },
     "metadata": {},
     "output_type": "display_data"
    }
   ],
   "source": [
    "# equivalent to\n",
    "plt.imshow(np.flip(grid, 0))\n",
    "\n",
    "plt.imshow(grid, cmap='Greys', origin='lower')\n",
    "# plt.imshow(skeleton, cmap='Greys', origin='lower', alpha=0.7)\n",
    "    \n",
    "plt.plot(start_ne[1], start_ne[0], 'gx')\n",
    "plt.plot(goal_ne[1], goal_ne[0], 'bx')\n",
    "\n",
    "plt.xlabel('EAST')\n",
    "plt.ylabel('NORTH')\n",
    "plt.show()"
   ]
  },
  {
   "cell_type": "code",
   "execution_count": 75,
   "metadata": {
    "collapsed": false,
    "inputHidden": false,
    "outputHidden": false
   },
   "outputs": [
    {
     "name": "stdout",
     "output_type": "stream",
     "text": [
      "(600, 545) (145, 200)\n",
      "[600 540] [145 200]\n"
     ]
    }
   ],
   "source": [
    "# TODO: Your start and goal location defined above\n",
    "# will not necessarily be on the skeleton so you\n",
    "# must first identify the nearest cell on the \n",
    "# skeleton to start and goal\n",
    "\n",
    "def find_start_goal(skel, start, goal):\n",
    "    skel_cells = np.transpose(skel.nonzero())\n",
    "    start_min_dist = np.linalg.norm(np.array(start) - np.array(skel_cells), axis=1).argmin()\n",
    "    near_start = skel_cells[start_min_dist]\n",
    "    goal_min_dist = np.linalg.norm(np.array(goal) - np.array(skel_cells), axis=1).argmin()\n",
    "    near_goal = skel_cells[goal_min_dist]\n",
    "    return near_start, near_goal\n",
    "\n",
    "skel_start, skel_goal = find_start_goal(skeleton, start_ne, goal_ne)\n",
    "\n",
    "print(start_ne, goal_ne)\n",
    "print(skel_start, skel_goal)\n"
   ]
  },
  {
   "cell_type": "code",
   "execution_count": 76,
   "metadata": {
    "collapsed": true,
    "inputHidden": false,
    "outputHidden": false
   },
   "outputs": [],
   "source": [
    "def heuristic_func(position, goal_position):\n",
    "    # TODO: define a heuristic\n",
    "    return np.sqrt((position[0] - goal_position[0])**2 + (position[1] - goal_position[1])**2)"
   ]
  },
  {
   "cell_type": "markdown",
   "metadata": {
    "inputHidden": false,
    "outputHidden": false
   },
   "source": [
    "### TODO: Run A* on the skeleton\n",
    "see [planning.py](/edit/planning.py) for a reminder on how to run the imported A* implementation (or rewrite it!)"
   ]
  },
  {
   "cell_type": "code",
   "execution_count": 77,
   "metadata": {
    "collapsed": false,
    "inputHidden": false,
    "outputHidden": false
   },
   "outputs": [
    {
     "name": "stdout",
     "output_type": "stream",
     "text": [
      "Found a path.\n",
      "Found a path.\n",
      "Path length = 456, path cost = 609.9158723275407\n"
     ]
    }
   ],
   "source": [
    "# Compare to regular A* on the grid\n",
    "path2, cost2 = a_star(grid, heuristic_func, start_ne, goal_ne)\n",
    "# Run A* on the skeleton\n",
    "path, cost = a_star(invert(skeleton).astype(np.int), heuristic_func, tuple(skel_start), tuple(skel_goal))\n",
    "print(\"Path length = {0}, path cost = {1}\".format(len(path), cost))"
   ]
  },
  {
   "cell_type": "code",
   "execution_count": 78,
   "metadata": {
    "collapsed": false,
    "inputHidden": false,
    "outputHidden": false
   },
   "outputs": [
    {
     "data": {
      "image/png": "[encoded data removed]",
      "text/plain": [
       "<matplotlib.figure.Figure at 0x11e28ac88>"
      ]
     },
     "metadata": {},
     "output_type": "display_data"
    }
   ],
   "source": [
    "plt.imshow(grid, cmap='Greys', origin='lower')\n",
    "plt.imshow(skeleton, cmap='Greys', origin='lower', alpha=0.7)\n",
    "# For the purposes of the visual the east coordinate lay along\n",
    "# the x-axis and the north coordinates long the y-axis.\n",
    "plt.plot(start_ne[1], start_ne[0], 'x')\n",
    "# Uncomment the following as needed\n",
    "plt.plot(goal_ne[1], goal_ne[0], 'x')\n",
    "\n",
    "pp = np.array(path)\n",
    "plt.plot(pp[:, 1], pp[:, 0], 'g')\n",
    "pp2 = np.array(path2)\n",
    "plt.plot(pp2[:, 1], pp2[:, 0], 'r')\n",
    "\n",
    "plt.xlabel('EAST')\n",
    "plt.ylabel('NORTH')\n",
    "plt.show()"
   ]
  },
  {
   "cell_type": "markdown",
   "metadata": {},
   "source": [
    "[solution](/notebooks/Medial-Axis-Solution.ipynb)"
   ]
  },
  {
   "cell_type": "code",
   "execution_count": null,
   "metadata": {
    "collapsed": true
   },
   "outputs": [],
   "source": []
  }
 ],
 "metadata": {
  "kernel_info": {
   "name": "python3"
  },
  "kernelspec": {
   "display_name": "Python [fcnd]",
   "language": "python",
   "name": "Python [fcnd]"
  },
  "language_info": {
   "codemirror_mode": {
    "name": "ipython",
    "version": 3
   },
   "file_extension": ".py",
   "mimetype": "text/x-python",
   "name": "python",
   "nbconvert_exporter": "python",
   "pygments_lexer": "ipython3",
   "version": "3.6.3"
  }
 },
 "nbformat": 4,
 "nbformat_minor": 2
}
